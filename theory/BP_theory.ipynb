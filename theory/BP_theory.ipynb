{
 "cells": [
  {
   "cell_type": "code",
   "execution_count": 228,
   "id": "42015e87-6491-42b0-9298-de104aa33c76",
   "metadata": {},
   "outputs": [],
   "source": [
    "import numpy as np\n",
    "from matplotlib import pyplot as plt"
   ]
  },
  {
   "cell_type": "code",
   "execution_count": 229,
   "id": "9ae2267c-769a-4157-a1ed-253aba166372",
   "metadata": {},
   "outputs": [],
   "source": [
    "N_candidates = 5\n",
    "\n",
    "dt                        = 1.0\n",
    "multiplier                = 1.0\n",
    "radicalization_multiplier = 0.2\n",
    "radius                    = 0.2\n",
    "exponent                  = 3\n",
    "\n",
    "candidates = np.arange(0, N_candidates)\n",
    "X = np.concatenate((np.arange(0, N_candidates), np.arange(0, N_candidates)))\n",
    "Y = np.concatenate((np.zeros(N_candidates),     np.ones(N_candidates)))"
   ]
  },
  {
   "cell_type": "code",
   "execution_count": 230,
   "id": "c9aabbb2-ecdd-4069-aed6-064adb2db3e2",
   "metadata": {},
   "outputs": [],
   "source": [
    "def overtoon_distance(distance):\n",
    "    normalized_distance = abs(distance/N_candidates)\n",
    "    if normalized_distance > radius:\n",
    "        normalized_distance = (radius - normalized_distance)/(1.0 - radius)\n",
    "        return -(-normalized_distance)**exponent\n",
    "    else:\n",
    "        normalized_distance = (radius - normalized_distance)/radius\n",
    "        return (normalized_distance)**exponent"
   ]
  },
  {
   "cell_type": "code",
   "execution_count": 231,
   "id": "b9736ba4-a75b-4cf7-8c1b-a6320c61cecb",
   "metadata": {},
   "outputs": [],
   "source": [
    "def compute_flux(proportions, election_mean_political_position):\n",
    "    fluxes = np.zeros((2*N_candidates, 2*N_candidates))\n",
    "    proportions_variations = np.zeros(2*N_candidates)\n",
    "\n",
    "    mean_political_position = 0\n",
    "    for icandidate in range(N_candidates):\n",
    "        mean_political_position += icandidate*(proportions[icandidate] + proportions[N_candidates+icandidate])\n",
    "    \n",
    "    for icandidate in range(N_candidates):\n",
    "        flux                = dt*multiplier*overtoon_distance(icandidate - election_mean_political_position)\n",
    "        radicalization_flux = radicalization_multiplier*flux\n",
    "        \n",
    "        if radicalization_flux > 0:\n",
    "            radicalization_flux *= proportions[icandidate]\n",
    "            \n",
    "            fluxes[icandidate, N_candidates+icandidate]     +=  radicalization_flux\n",
    "            proportions_variations[             icandidate] += -radicalization_flux\n",
    "            proportions_variations[N_candidates+icandidate] +=  radicalization_flux\n",
    "        else:\n",
    "            radicalization_flux *= proportions[N_candidates+icandidate]\n",
    "\n",
    "            fluxes[N_candidates+icandidate, icandidate]     += -radicalization_flux\n",
    "            proportions_variations[             icandidate] += -radicalization_flux\n",
    "            proportions_variations[N_candidates+icandidate] +=  radicalization_flux\n",
    "        \n",
    "        if flux < 0:\n",
    "            flux *= proportions[icandidate]\n",
    "            if mean_political_position > icandidate:\n",
    "                fluxes[icandidate, icandidate+1]     += -flux\n",
    "                proportions_variations[icandidate]   +=  flux\n",
    "                proportions_variations[icandidate+1] += -flux\n",
    "            else:\n",
    "                fluxes[icandidate, icandidate-1]     += -flux\n",
    "                proportions_variations[icandidate]   +=  flux\n",
    "                proportions_variations[icandidate-1] += -flux\n",
    "\n",
    "    return proportions_variations, fluxes"
   ]
  },
  {
   "cell_type": "code",
   "execution_count": 235,
   "id": "b0f5c319-2307-4825-a80a-8287853e6f6d",
   "metadata": {},
   "outputs": [],
   "source": [
    "proportions = np.random.rand(N_candidates*2)\n",
    "proportions[N_candidates:] *= proportions[:N_candidates]/5\n",
    "proportions /= np.sum(proportions)"
   ]
  },
  {
   "cell_type": "code",
   "execution_count": 236,
   "id": "2f98884d-799b-473f-ac43-8d1c1a16076a",
   "metadata": {},
   "outputs": [],
   "source": [
    "mean_polititcal_view = 2.2\n",
    "\n",
    "proportions_variations, fluxes = compute_flux(proportions, mean_polititcal_view)"
   ]
  },
  {
   "cell_type": "code",
   "execution_count": 239,
   "id": "df80806e-1a61-4949-8846-52d7225690c8",
   "metadata": {},
   "outputs": [
    {
     "data": {
      "image/png": "[encoded data removed]",
      "text/plain": [
       "<Figure size 640x480 with 1 Axes>"
      ]
     },
     "metadata": {},
     "output_type": "display_data"
    }
   ],
   "source": [
    "plt.scatter(X,Y,s=proportions*1000)\n",
    "plt.plot([mean_polititcal_view, mean_polititcal_view], [0, 1], \"k--\")\n",
    "\n",
    "epsilon = 1e-5\n",
    "for icandidate in range(N_candidates):\n",
    "    if abs(proportions_variations[icandidate]) > epsilon:\n",
    "        proportional_var = proportions_variations[icandidate]/proportions[icandidate]\n",
    "        plt.text(icandidate+0.05, 0.05, f\"{ '+' if proportional_var > epsilon else '' }{ round(proportional_var*100) }%\",\n",
    "                 color=\"r\")\n",
    "    \n",
    "    if abs(proportions_variations[N_candidates+icandidate]) > epsilon:\n",
    "        proportional_var = proportions_variations[N_candidates+icandidate]/proportions[N_candidates+icandidate]\n",
    "        plt.text(icandidate+0.05, 0.95, f\"{ '+' if proportional_var > epsilon else '' }{ round(proportional_var*100) }%\",\n",
    "                 color=\"r\")\n",
    "        \n",
    "    if fluxes[icandidate, N_candidates+icandidate] > epsilon:\n",
    "        proportional_var = fluxes[icandidate, N_candidates+icandidate]/proportions[icandidate]\n",
    "        \n",
    "        width      = 2*fluxes[icandidate, N_candidates+icandidate]\n",
    "        head_width = max(width*2, 0.05)\n",
    "        \n",
    "        \n",
    "        plt.arrow(icandidate, 0.1, 0, 0.8 - head_width,\n",
    "                  width=width, head_width=head_width)\n",
    "        plt.text(icandidate+0.02+width, 0.5, f\"{ round(proportional_var*100) }%\",\n",
    "                 rotation=\"vertical\")\n",
    "        \n",
    "    elif fluxes[N_candidates+icandidate, icandidate] < 1e-5:\n",
    "        proportional_var = fluxes[N_candidates+icandidate, icandidate]/proportions[N_candidates+icandidate]\n",
    "        \n",
    "        width      = 2*fluxes[N_candidates+icandidate, icandidate]\n",
    "        head_width = max(width*2, 0.05)\n",
    "        \n",
    "        plt.arrow(icandidate, 0.9, 0, -(0.8 - head_width),\n",
    "                  width=width, head_width=head_width)\n",
    "        plt.text(icandidate+0.02+width, 0.5, f\"{ round(proportional_var*100) }%\",\n",
    "                 rotation=\"vertical\")\n",
    "\n",
    "    if fluxes[icandidate, icandidate+1] > epsilon:\n",
    "        proportional_var = fluxes[icandidate, icandidate+1]/proportions[icandidate]\n",
    "        \n",
    "        width      = 2*fluxes[icandidate, icandidate+1]\n",
    "        head_width = max(width*2, 0.05)\n",
    "        \n",
    "        plt.arrow(icandidate + 0.2, 0, 0.6 - head_width, 0,\n",
    "                  width=width, head_width=head_width)\n",
    "        plt.text(icandidate + 0.4, -0.05-width, f\"{ round(proportional_var*100) }%\")\n",
    "        \n",
    "    elif fluxes[icandidate, icandidate-1] > epsilon:\n",
    "        proportional_var = fluxes[icandidate, icandidate-1]/proportions[icandidate]\n",
    "        \n",
    "        width      = 2*fluxes[icandidate, icandidate-1]\n",
    "        head_width = max(width*2, 0.05)\n",
    "        \n",
    "        plt.arrow(icandidate - 0.2, 0, -(0.6 - head_width), 0,\n",
    "                  width=width, head_width=head_width)\n",
    "        plt.text(icandidate - 0.5, -0.05-width, f\"{ round(proportional_var*100) }%\")\n",
    "\n",
    "plt.savefig(\"figures/overtoon.png\", dpi=500)"
   ]
  },
  {
   "cell_type": "code",
   "execution_count": null,
   "id": "42422dd4-6312-4e88-bcb0-886f4ea258f2",
   "metadata": {},
   "outputs": [],
   "source": []
  }
 ],
 "metadata": {
  "kernelspec": {
   "display_name": "Python 3 (ipykernel)",
   "language": "python",
   "name": "python3"
  },
  "language_info": {
   "codemirror_mode": {
    "name": "ipython",
    "version": 3
   },
   "file_extension": ".py",
   "mimetype": "text/x-python",
   "name": "python",
   "nbconvert_exporter": "python",
   "pygments_lexer": "ipython3",
   "version": "3.11.8"
  }
 },
 "nbformat": 4,
 "nbformat_minor": 5
}
